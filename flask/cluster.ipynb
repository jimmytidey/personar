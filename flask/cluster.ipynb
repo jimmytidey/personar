{
 "cells": [
  {
   "cell_type": "code",
   "execution_count": null,
   "metadata": {},
   "outputs": [],
   "source": [
    "from basic_demography import BasicDemography\n",
    "from employment import Employment\n",
    "from occupation import Occupation\n",
    "from disability import Disability\n",
    "\n",
    "basic_demographics = BasicDemography()\n",
    "employment = Employment()\n",
    "occupation = Occupation()\n",
    "disability = Disability()\n",
    "\n",
    "\n",
    "sample_df = basic_demographics.sample(10, '')\n",
    "sample_df = employment.add_employment(sample_df)\n",
    "sample_df = occupation.add_occupation(sample_df)\n",
    "sample_df = disability.add_disability_status(sample_df)\n",
    "display(sample_df)"
   ]
  }
 ],
 "metadata": {
  "language_info": {
   "name": "python"
  },
  "orig_nbformat": 4
 },
 "nbformat": 4,
 "nbformat_minor": 2
}
