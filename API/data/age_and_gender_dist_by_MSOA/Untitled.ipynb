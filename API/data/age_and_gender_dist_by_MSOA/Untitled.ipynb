{
 "cells": [
  {
   "cell_type": "code",
   "execution_count": 28,
   "id": "f8c58d26",
   "metadata": {},
   "outputs": [],
   "source": [
    "import sys\n",
    "sys.path.append(\"../../API/venv/lib/python3.11/site-packages\")\n",
    "import pandas as pd\n",
    "import random\n",
    "\n"
   ]
  },
  {
   "cell_type": "code",
   "execution_count": 33,
   "id": "c7ad365b",
   "metadata": {},
   "outputs": [
    {
     "name": "stderr",
     "output_type": "stream",
     "text": [
      "/Users/jimmy/Projects/personar/API/venv/lib/python3.11/site-packages/openpyxl/worksheet/header_footer.py:48: UserWarning: Cannot parse header or footer so it will be ignored\n",
      "  warn(\"\"\"Cannot parse header or footer so it will be ignored\"\"\")\n",
      "/Users/jimmy/Projects/personar/API/venv/lib/python3.11/site-packages/openpyxl/worksheet/header_footer.py:48: UserWarning: Cannot parse header or footer so it will be ignored\n",
      "  warn(\"\"\"Cannot parse header or footer so it will be ignored\"\"\")\n"
     ]
    }
   ],
   "source": [
    "# https://www.ons.gov.uk/peoplepopulationandcommunity/populationandmigration/populationestimates/datasets/middlesuperoutputareamidyearpopulationestimates\n",
    "\n",
    "def sample_age_and_gender_dist_by_MSOA(sample_size):\n",
    "    \n",
    "    def age_sampler(distribution):\n",
    "        return random.choices(list(distribution.keys()), weights=distribution.values())[0]\n",
    "\n",
    "    females_df = pd.read_excel(io='sape23dt4mid2020msoasyoaestimatesunformatted.xlsx', sheet_name='Mid-2020 Females',skiprows=4)\n",
    "    males_df = pd.read_excel(io='sape23dt4mid2020msoasyoaestimatesunformatted.xlsx', sheet_name='Mid-2020 Males',skiprows=4)\n",
    "    females_df['Gender']='female'\n",
    "    males_df['Gender']='male'\n",
    "    combined_df = pd.concat([females_df,males_df], ignore_index=True)\n",
    "    filtered_by_MSOA_df = combined_df.loc[combined_df['LA name (2021 boundaries)'] == 'Newham']\n",
    "    sample = filtered_by_MSOA_df.sample(n=sample_size, weights='All Ages')\n",
    "    sample['age_distribution_dictionary'] = sample.iloc[:, 19:98].to_dict('records')\n",
    "    sample.drop(sample.columns[7:98], axis=1,inplace=True)\n",
    "    sample['age'] = sample['age_distribution_dictionary'].apply(age_sampler)\n",
    "    sample.drop(['age_distribution_dictionary','LA Code (2018 boundaries)','LA name (2018 boundaries)'], axis=1,inplace=True)\n",
    "    return sample\n",
    "\n",
    "sample_age_and_gender_dist_by_MSOA(10)\n",
    "\n"
   ]
  }
 ],
 "metadata": {
  "kernelspec": {
   "display_name": "venv",
   "language": "python",
   "name": "venv"
  },
  "language_info": {
   "codemirror_mode": {
    "name": "ipython",
    "version": 3
   },
   "file_extension": ".py",
   "mimetype": "text/x-python",
   "name": "python",
   "nbconvert_exporter": "python",
   "pygments_lexer": "ipython3",
   "version": "3.11.2"
  }
 },
 "nbformat": 4,
 "nbformat_minor": 5
}
