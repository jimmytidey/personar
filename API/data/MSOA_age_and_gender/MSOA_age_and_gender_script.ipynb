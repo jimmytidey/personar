import gspread
from google.colab import data_table
import pandas as pd
from gspread_dataframe import get_as_dataframe
from google.colab import auth
from google.auth import default

auth.authenticate_user()
creds, _ = default()
gc = gspread.authorize(creds)
MSOA_females = gc.open('sape23dt4mid2020msoasyoaestimatesunformatted').worksheet('Mid-2020 Females')
MSOA_males = gc.open('sape23dt4mid2020msoasyoaestimatesunformatted').worksheet('Mid-2020 Males')

MSOA_females_df = get_as_dataframe(MSOA_females, parse_dates=True, skiprows=4, header=0)
MSOA_males_df = get_as_dataframe(MSOA_males, parse_dates=True, skiprows=4, header=0)

MSOA_total_df = pd.concat([MSOA_females_df,MSOA_males_df], ignore_index=True)
MSOA_total_df.to_csv('MSOA_by_age_and_gender.csv', index=False)
